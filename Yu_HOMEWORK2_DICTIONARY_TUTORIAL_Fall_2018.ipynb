{
 "cells": [
  {
   "cell_type": "raw",
   "metadata": {},
   "source": [
    "Yu_HOMEWORK2_DICTIONARY_TUTORIAL_Fall_2018\n",
    "Use of dictionaries"
   ]
  },
  {
   "cell_type": "code",
   "execution_count": 1,
   "metadata": {},
   "outputs": [
    {
     "name": "stdout",
     "output_type": "stream",
     "text": [
      "{'parameter5': 5.0, 'parameter4': 4.0, 'parameter1': 1.0, 'parameter3': 3.0, 'parameter2': 2.0}\n"
     ]
    }
   ],
   "source": [
    "# creation of dict\n",
    "mydict = {\"parameter1\" : 1.0,\n",
    "          \"parameter2\" : 2.0,\n",
    "          \"parameter3\" : 3.0,\n",
    "          \"parameter4\" : 4.0,\n",
    "          \"parameter5\" : 5.0}\n",
    "print(mydict)"
   ]
  },
  {
   "cell_type": "code",
   "execution_count": 2,
   "metadata": {},
   "outputs": [
    {
     "name": "stdout",
     "output_type": "stream",
     "text": [
      "parameter1 = 1.0\n",
      "parameter2 = 2.0\n",
      "parameter5 = 5.0\n"
     ]
    }
   ],
   "source": [
    "# access item of dict\n",
    "print(\"parameter1 = \" + str(mydict[\"parameter1\"]))\n",
    "print(\"parameter2 = \" + str(mydict[\"parameter2\"]))\n",
    "print(\"parameter5 = \" + str(mydict[\"parameter5\"]))"
   ]
  },
  {
   "cell_type": "code",
   "execution_count": 5,
   "metadata": {},
   "outputs": [
    {
     "name": "stdout",
     "output_type": "stream",
     "text": [
      "{'parameter5': 5.0, 'parameter4': 4.0, 'parameter6': 'D', 'parameter1': 'a', 'parameter3': 'b', 'parameter2': 2.0}\n",
      "parameter1 = a\n",
      "parameter3 = b\n",
      "parameter6 = D\n"
     ]
    }
   ],
   "source": [
    "# modify item of dict\n",
    "mydict[\"parameter1\"] = \"a\"\n",
    "mydict[\"parameter3\"] = \"b\"\n",
    "\n",
    "# add an param\n",
    "mydict[\"parameter6\"] = \"D\"\n",
    "print(mydict)\n",
    "print(\"parameter1 = \" + str(mydict[\"parameter1\"]))\n",
    "print(\"parameter3 = \" + str(mydict[\"parameter3\"]))\n",
    "print(\"parameter6 = \" + str(mydict[\"parameter6\"]))"
   ]
  },
  {
   "cell_type": "code",
   "execution_count": 6,
   "metadata": {},
   "outputs": [
    {
     "name": "stdout",
     "output_type": "stream",
     "text": [
      "{'parameter5': 5.0, 'parameter4': 4.0, 'parameter6': 'D', 'parameter3': 'b', 'parameter2': 2.0}\n"
     ]
    }
   ],
   "source": [
    "# delete item of dict\n",
    "del mydict[\"parameter1\"]\n",
    "print (mydict)"
   ]
  },
  {
   "cell_type": "code",
   "execution_count": 10,
   "metadata": {},
   "outputs": [
    {
     "name": "stdout",
     "output_type": "stream",
     "text": [
      "{'parameter5': 5.0, 'parameter4': 'B', 'parameter7': 10.0, 'parameter6': 'D', 'parameter1': 1.0, 'parameter3': 9.0, 'parameter2': 2.0}\n",
      "{'parameter5': 5.0, 'parameter4': 4.0, 'parameter7': 10.0, 'parameter6': 'D', 'parameter1': 1.0, 'parameter3': 'b', 'parameter2': 2.0}\n"
     ]
    }
   ],
   "source": [
    "# merge dictionaries\n",
    "mydict1 = {\"parameter1\" : 1.0,\n",
    "           \"parameter2\" : 2.0,\n",
    "           \"parameter3\" : 9.0,\n",
    "           \"parameter4\" : \"B\",\n",
    "           \"parameter5\" : 5.0,\n",
    "           \"parameter7\" : 10.0 }\n",
    "print dict(mydict, **mydict1)\n",
    "#we update the dictionary mydict with the key/value pairs from mydict1 in this way.\n",
    "print dict(mydict1, **mydict)\n",
    "#we update the dictionary mydict1 with the key/value pairs from mydict in this way."
   ]
  },
  {
   "cell_type": "code",
   "execution_count": 11,
   "metadata": {},
   "outputs": [
    {
     "name": "stdout",
     "output_type": "stream",
     "text": [
      "{'parameter5': 5.0, 'parameter4': 4.0, 'parameter7': 10.0, 'parameter6': 'D', 'parameter1': 1.0, 'parameter3': 'b', 'parameter2': 2.0}\n"
     ]
    }
   ],
   "source": [
    "# merge dictionaries 2\n",
    "mydict1 = {\"parameter1\" : 1.0,\n",
    "           \"parameter2\" : 2.0,\n",
    "           \"parameter3\" : 9.0,\n",
    "           \"parameter4\" : \"B\",\n",
    "           \"parameter5\" : 5.0,\n",
    "           \"parameter7\" : 10.0 }\n",
    "#we update the dictionary mydict1 with the key/value pairs from mydict in this way.\n",
    "mydict1.update(mydict)\n",
    "print mydict1"
   ]
  },
  {
   "cell_type": "code",
   "execution_count": 12,
   "metadata": {},
   "outputs": [
    {
     "name": "stdout",
     "output_type": "stream",
     "text": [
      "{'parameter5': 5.0, 'parameter4': 'B', 'parameter7': 10.0, 'parameter6': 'D', 'parameter1': 1.0, 'parameter3': 9.0, 'parameter2': 2.0}\n"
     ]
    }
   ],
   "source": [
    "# merge dictionaries 2'\n",
    "mydict1 = {\"parameter1\" : 1.0,\n",
    "           \"parameter2\" : 2.0,\n",
    "           \"parameter3\" : 9.0,\n",
    "           \"parameter4\" : \"B\",\n",
    "           \"parameter5\" : 5.0,\n",
    "           \"parameter7\" : 10.0 }\n",
    "#we update the dictionary mydict with the key/value pairs from mydict1 in this way.\n",
    "mydict.update(mydict1)\n",
    "print mydict"
   ]
  },
  {
   "cell_type": "code",
   "execution_count": 13,
   "metadata": {},
   "outputs": [
    {
     "name": "stdout",
     "output_type": "stream",
     "text": [
      "key3\n",
      "key2\n",
      "key1\n",
      "key5\n",
      "key4\n"
     ]
    }
   ],
   "source": [
    "# loop over: key \n",
    "mydict2 = {\"key1\" : 1.0,\n",
    "           \"key2\" : 2.0,\n",
    "           \"key3\" : 3.0,\n",
    "           \"key4\" : 4.0,\n",
    "           \"key5\" : 5.0 }  \n",
    "for key in mydict2:\n",
    "    print key"
   ]
  },
  {
   "cell_type": "code",
   "execution_count": 19,
   "metadata": {},
   "outputs": [
    {
     "name": "stdout",
     "output_type": "stream",
     "text": [
      "key3\n",
      "key2\n",
      "key1\n",
      "key5\n",
      "key4\n"
     ]
    }
   ],
   "source": [
    "# loop over : key 2\n",
    "for key in mydict2.iterkeys():\n",
    "    print key"
   ]
  },
  {
   "cell_type": "code",
   "execution_count": 15,
   "metadata": {},
   "outputs": [
    {
     "name": "stdout",
     "output_type": "stream",
     "text": [
      "3.0\n",
      "2.0\n",
      "1.0\n",
      "5.0\n",
      "4.0\n"
     ]
    }
   ],
   "source": [
    "# loop over : value\n",
    "for value in mydict2.itervalues():\n",
    "    print value"
   ]
  },
  {
   "cell_type": "code",
   "execution_count": 17,
   "metadata": {},
   "outputs": [
    {
     "name": "stdout",
     "output_type": "stream",
     "text": [
      "key3 3.0\n",
      "key2 2.0\n",
      "key1 1.0\n",
      "key5 5.0\n",
      "key4 4.0\n"
     ]
    }
   ],
   "source": [
    "# loop over : items\n",
    "for key, value in mydict2.iteritems():\n",
    "    print key,value"
   ]
  },
  {
   "cell_type": "code",
   "execution_count": null,
   "metadata": {},
   "outputs": [],
   "source": []
  }
 ],
 "metadata": {
  "kernelspec": {
   "display_name": "Python 2",
   "language": "python",
   "name": "python2"
  },
  "language_info": {
   "codemirror_mode": {
    "name": "ipython",
    "version": 2
   },
   "file_extension": ".py",
   "mimetype": "text/x-python",
   "name": "python",
   "nbconvert_exporter": "python",
   "pygments_lexer": "ipython2",
   "version": "2.7.15"
  }
 },
 "nbformat": 4,
 "nbformat_minor": 2
}
