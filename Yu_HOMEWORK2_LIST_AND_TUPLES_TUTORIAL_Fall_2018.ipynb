{
 "cells": [
  {
   "cell_type": "raw",
   "metadata": {},
   "source": [
    "Yu_HOMEWORK2_LIST_AND_TUPLES_TUTORIAL_Fall_2018\n",
    "The difference between python lists and tuplesLists"
   ]
  },
  {
   "cell_type": "code",
   "execution_count": 16,
   "metadata": {},
   "outputs": [
    {
     "name": "stdout",
     "output_type": "stream",
     "text": [
      "[1, 2, 3, 4]\n",
      "error\n"
     ]
    }
   ],
   "source": [
    "# list used in if statement\n",
    "list1 = [1,2,3,4]\n",
    "list2 = [1,2,3,4]\n",
    "if list1 == list2:\n",
    "    print(list1)\n",
    "else:\n",
    "    print(\"error\")\n",
    "    \n",
    "list2[0] = 5\n",
    "# This step I want to show that lists are mutable.\n",
    "if list1 == list2:\n",
    "    print(list1)\n",
    "else:\n",
    "    print(\"error\")"
   ]
  },
  {
   "cell_type": "code",
   "execution_count": 17,
   "metadata": {},
   "outputs": [
    {
     "name": "stdout",
     "output_type": "stream",
     "text": [
      "(1, 2, 3, 4)\n"
     ]
    },
    {
     "ename": "TypeError",
     "evalue": "'tuple' object does not support item assignment",
     "output_type": "error",
     "traceback": [
      "\u001b[0;31m\u001b[0m",
      "\u001b[0;31mTypeError\u001b[0mTraceback (most recent call last)",
      "\u001b[0;32m<ipython-input-17-92dcfa7d0691>\u001b[0m in \u001b[0;36m<module>\u001b[0;34m()\u001b[0m\n\u001b[1;32m      7\u001b[0m     \u001b[0;32mprint\u001b[0m\u001b[0;34m(\u001b[0m\u001b[0;34m\"error\"\u001b[0m\u001b[0;34m)\u001b[0m\u001b[0;34m\u001b[0m\u001b[0m\n\u001b[1;32m      8\u001b[0m \u001b[0;34m\u001b[0m\u001b[0m\n\u001b[0;32m----> 9\u001b[0;31m \u001b[0mtuple2\u001b[0m\u001b[0;34m[\u001b[0m\u001b[0;36m0\u001b[0m\u001b[0;34m]\u001b[0m \u001b[0;34m=\u001b[0m \u001b[0;36m5\u001b[0m\u001b[0;34m\u001b[0m\u001b[0m\n\u001b[0m\u001b[1;32m     10\u001b[0m \u001b[0;31m# This step I want to show that tuples are immutable, thus it has error when the program running.We can not assign a new value to an element in a tuple.\u001b[0m\u001b[0;34m\u001b[0m\u001b[0;34m\u001b[0m\u001b[0m\n\u001b[1;32m     11\u001b[0m \u001b[0;32mif\u001b[0m \u001b[0mtuple1\u001b[0m \u001b[0;34m==\u001b[0m \u001b[0mtuple2\u001b[0m\u001b[0;34m:\u001b[0m\u001b[0;34m\u001b[0m\u001b[0m\n",
      "\u001b[0;31mTypeError\u001b[0m: 'tuple' object does not support item assignment"
     ]
    }
   ],
   "source": [
    "# tuple used in if statement \n",
    "tuple1 = (1,2,3,4)\n",
    "tuple2 = (1,2,3,4)\n",
    "if tuple1 == tuple2:\n",
    "    print(tuple1)\n",
    "else:\n",
    "    print(\"error\")\n",
    "\n",
    "tuple2[0] = 5\n",
    "# This step I want to show that tuples are immutable, thus it has error when the program running.We can not assign a new value to an element in a tuple. \n",
    "if tuple1 == tuple2:\n",
    "    print(tuple1)\n",
    "else:\n",
    "    print(\"error\")"
   ]
  },
  {
   "cell_type": "code",
   "execution_count": 18,
   "metadata": {},
   "outputs": [
    {
     "name": "stdout",
     "output_type": "stream",
     "text": [
      "[1, 2, 3]\n",
      "[8, 9, 10]\n"
     ]
    }
   ],
   "source": [
    "# list used in for loops\n",
    "list3 = [[1,2,3],[4,5,6,7],[8,9,10]]\n",
    "for x in list3:\n",
    "    if len(x) == 3:\n",
    "        print x"
   ]
  },
  {
   "cell_type": "code",
   "execution_count": 21,
   "metadata": {},
   "outputs": [
    {
     "name": "stdout",
     "output_type": "stream",
     "text": [
      "First 1 second 2 last 7\n",
      "First 3 second 4 last 8\n",
      "First 5 second 6 last 9\n"
     ]
    }
   ],
   "source": [
    "# tuple used in for loops\n",
    "tuple3 = [(1,2,7),(3,4,8),(5,6,9)]\n",
    "for a,b,c in tuple3:\n",
    "    print \"First\",a,\"second\",b,\"last\",c"
   ]
  },
  {
   "cell_type": "code",
   "execution_count": 29,
   "metadata": {},
   "outputs": [
    {
     "data": {
      "text/plain": [
       "[4, 1, 0, 1, 4, 9]"
      ]
     },
     "execution_count": 29,
     "metadata": {},
     "output_type": "execute_result"
    }
   ],
   "source": [
    "# list used in lambdas\n",
    "list(map(lambda x : x**2,range(-2,4)))"
   ]
  },
  {
   "cell_type": "code",
   "execution_count": 30,
   "metadata": {},
   "outputs": [
    {
     "data": {
      "text/plain": [
       "[2, 4, 6]"
      ]
     },
     "execution_count": 30,
     "metadata": {},
     "output_type": "execute_result"
    }
   ],
   "source": [
    "# list used in lambdas with filter function\n",
    "list4 = [1,2,3,4,5,6,7]\n",
    "filter(lambda x : x % 2 == 0,list4)"
   ]
  },
  {
   "cell_type": "code",
   "execution_count": 31,
   "metadata": {},
   "outputs": [
    {
     "data": {
      "text/plain": [
       "(4, 1, 0, 1, 4, 9)"
      ]
     },
     "execution_count": 31,
     "metadata": {},
     "output_type": "execute_result"
    }
   ],
   "source": [
    "# tuple used in lambdas\n",
    "tuple(map(lambda x : x**2,range(-2,4)))"
   ]
  },
  {
   "cell_type": "code",
   "execution_count": 33,
   "metadata": {},
   "outputs": [
    {
     "data": {
      "text/plain": [
       "[(4, 5), (6, 7)]"
      ]
     },
     "execution_count": 33,
     "metadata": {},
     "output_type": "execute_result"
    }
   ],
   "source": [
    "# tuple used in lambdas with filter function\n",
    "tuple4 = [(1,2),(2,3),(4,5),(6,7),(8,9)]\n",
    "filter(lambda x : x[0]<7 and x[1]>3, tuple4)"
   ]
  },
  {
   "cell_type": "code",
   "execution_count": null,
   "metadata": {},
   "outputs": [],
   "source": []
  }
 ],
 "metadata": {
  "kernelspec": {
   "display_name": "Python 2",
   "language": "python",
   "name": "python2"
  },
  "language_info": {
   "codemirror_mode": {
    "name": "ipython",
    "version": 2
   },
   "file_extension": ".py",
   "mimetype": "text/x-python",
   "name": "python",
   "nbconvert_exporter": "python",
   "pygments_lexer": "ipython2",
   "version": "2.7.15"
  }
 },
 "nbformat": 4,
 "nbformat_minor": 2
}
