{
 "cells": [
  {
   "cell_type": "raw",
   "metadata": {},
   "source": [
    "Yu_HOMEWORK2_OTHER_TUTORIAL_Fall_2018\n",
    "random functions, regexp, map/reduce, file manipulations"
   ]
  },
  {
   "cell_type": "code",
   "execution_count": 2,
   "metadata": {},
   "outputs": [
    {
     "name": "stdout",
     "output_type": "stream",
     "text": [
      "5\n"
     ]
    }
   ],
   "source": [
    "# random functions 1\n",
    "# Generate integers between 1 and 5.\n",
    "import random\n",
    "print random.randint(0,5)"
   ]
  },
  {
   "cell_type": "code",
   "execution_count": 3,
   "metadata": {},
   "outputs": [
    {
     "data": {
      "text/plain": [
       "25.09480748866224"
      ]
     },
     "execution_count": 3,
     "metadata": {},
     "output_type": "execute_result"
    }
   ],
   "source": [
    "# random functions 2\n",
    "# Generate a random number between 0 and 100.\n",
    "import random\n",
    "random.random()*100"
   ]
  },
  {
   "cell_type": "code",
   "execution_count": 4,
   "metadata": {},
   "outputs": [
    {
     "data": {
      "text/plain": [
       "100"
      ]
     },
     "execution_count": 4,
     "metadata": {},
     "output_type": "execute_result"
    }
   ],
   "source": [
    "# random functions 3\n",
    "# Generate a random value from the list.\n",
    "import random\n",
    "myList = [2, 100, 'b', False, 45]\n",
    "random.choice(myList)"
   ]
  },
  {
   "cell_type": "code",
   "execution_count": 9,
   "metadata": {},
   "outputs": [
    {
     "name": "stdout",
     "output_type": "stream",
     "text": [
      "60\n",
      "45\n",
      "50\n"
     ]
    }
   ],
   "source": [
    "# random functions 4\n",
    "# Generate a randomly selected element from range(start, stop, step)\n",
    "import random\n",
    "for i in range(3):\n",
    "    print random.randrange(0,101,5)"
   ]
  },
  {
   "cell_type": "code",
   "execution_count": 18,
   "metadata": {},
   "outputs": [
    {
     "name": "stdout",
     "output_type": "stream",
     "text": [
      "found word:dog\n"
     ]
    }
   ],
   "source": [
    "# regexp\n",
    "# 'found word:dog'\n",
    "import re\n",
    "str = 'an example word:dog!'\n",
    "match = re.search(r'word:\\w\\w\\w', str)\n",
    "if match:\n",
    "    print 'found', match.group()\n",
    "else:\n",
    "    print 'did not find'"
   ]
  },
  {
   "cell_type": "code",
   "execution_count": 19,
   "metadata": {},
   "outputs": [
    {
     "name": "stdout",
     "output_type": "stream",
     "text": [
      "[1, 4, 9, 16, 25, 36]\n"
     ]
    }
   ],
   "source": [
    "# map\n",
    "def f(x):\n",
    "    return x * x\n",
    "l = map (f,[1,2,3,4,5,6])\n",
    "print (l)"
   ]
  },
  {
   "cell_type": "code",
   "execution_count": 23,
   "metadata": {},
   "outputs": [
    {
     "data": {
      "text/plain": [
       "25"
      ]
     },
     "execution_count": 23,
     "metadata": {},
     "output_type": "execute_result"
    }
   ],
   "source": [
    "# reduce\n",
    "from functools import reduce\n",
    "def add(x,y):\n",
    "    return x + y\n",
    "reduce(add,[1,3,5,7,9])"
   ]
  },
  {
   "cell_type": "code",
   "execution_count": 41,
   "metadata": {},
   "outputs": [
    {
     "name": "stdout",
     "output_type": "stream",
     "text": [
      "hello world\n",
      "hello world again\n"
     ]
    }
   ],
   "source": [
    "# file manipulations\n",
    "# open and read the file\n",
    "fh = open(\"mypython.txt\",\"r\")\n",
    "print fh.read()\n",
    "\n",
    "# write to a file\n",
    "fh = open(\"mypython.txt\",\"w\")\n",
    "fh.write(\"hello world\\n\")\n",
    "fh.close()\n",
    "\n",
    "# appand to a file\n",
    "fh = open(\"mypython.txt\",\"a\")\n",
    "fh.write(\"hello world again\")\n",
    "fh.close()"
   ]
  },
  {
   "cell_type": "code",
   "execution_count": null,
   "metadata": {},
   "outputs": [],
   "source": []
  }
 ],
 "metadata": {
  "kernelspec": {
   "display_name": "Python 2",
   "language": "python",
   "name": "python2"
  },
  "language_info": {
   "codemirror_mode": {
    "name": "ipython",
    "version": 2
   },
   "file_extension": ".py",
   "mimetype": "text/x-python",
   "name": "python",
   "nbconvert_exporter": "python",
   "pygments_lexer": "ipython2",
   "version": "2.7.15"
  }
 },
 "nbformat": 4,
 "nbformat_minor": 2
}
